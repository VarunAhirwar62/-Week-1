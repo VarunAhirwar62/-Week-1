{
 "cells": [
  {
   "cell_type": "code",
   "execution_count": 1,
   "id": "46eef851",
   "metadata": {
    "_cell_guid": "b1076dfc-b9ad-4769-8c92-a6c4dae69d19",
    "_uuid": "8f2839f25d086af736a60e9eeb907d3b93b6e0e5",
    "execution": {
     "iopub.execute_input": "2024-04-01T08:49:57.504990Z",
     "iopub.status.busy": "2024-04-01T08:49:57.504565Z",
     "iopub.status.idle": "2024-04-01T08:49:58.216164Z",
     "shell.execute_reply": "2024-04-01T08:49:58.215328Z"
    },
    "papermill": {
     "duration": 0.72143,
     "end_time": "2024-04-01T08:49:58.218561",
     "exception": false,
     "start_time": "2024-04-01T08:49:57.497131",
     "status": "completed"
    },
    "tags": []
   },
   "outputs": [],
   "source": [
    "# This Python 3 environment comes with many helpful analytics libraries installed\n",
    "# It is defined by the kaggle/python Docker image: https://github.com/kaggle/docker-python\n",
    "# For example, here's several helpful packages to load\n",
    "\n",
    "import numpy as np # linear algebra\n",
    "import pandas as pd # data processing, CSV file I/O (e.g. pd.read_csv)\n",
    "\n",
    "# Input data files are available in the read-only \"../input/\" directory\n",
    "# For example, running this (by clicking run or pressing Shift+Enter) will list all files under the input directory\n",
    "\n",
    "import os\n",
    "\n",
    "\n",
    "# You can write up to 20GB to the current directory (/kaggle/working/) that gets preserved as output when you create a version using \"Save & Run All\" \n",
    "# You can also write temporary files to /kaggle/temp/, but they won't be saved outside of the current session"
   ]
  },
  {
   "cell_type": "code",
   "execution_count": 2,
   "id": "93eac5d3",
   "metadata": {
    "execution": {
     "iopub.execute_input": "2024-04-01T08:49:58.230685Z",
     "iopub.status.busy": "2024-04-01T08:49:58.230270Z",
     "iopub.status.idle": "2024-04-01T08:50:09.806566Z",
     "shell.execute_reply": "2024-04-01T08:50:09.805733Z"
    },
    "papermill": {
     "duration": 11.58473,
     "end_time": "2024-04-01T08:50:09.808888",
     "exception": false,
     "start_time": "2024-04-01T08:49:58.224158",
     "status": "completed"
    },
    "tags": []
   },
   "outputs": [
    {
     "name": "stderr",
     "output_type": "stream",
     "text": [
      "2024-04-01 08:49:59.821678: E external/local_xla/xla/stream_executor/cuda/cuda_dnn.cc:9261] Unable to register cuDNN factory: Attempting to register factory for plugin cuDNN when one has already been registered\n",
      "2024-04-01 08:49:59.821782: E external/local_xla/xla/stream_executor/cuda/cuda_fft.cc:607] Unable to register cuFFT factory: Attempting to register factory for plugin cuFFT when one has already been registered\n",
      "2024-04-01 08:49:59.943293: E external/local_xla/xla/stream_executor/cuda/cuda_blas.cc:1515] Unable to register cuBLAS factory: Attempting to register factory for plugin cuBLAS when one has already been registered\n"
     ]
    }
   ],
   "source": [
    "from tensorflow import keras\n",
    "import tensorflow\n",
    "import tensorflow as tf\n",
    "from tensorflow.keras.layers import Input, Lambda, Dense, Flatten,Dropout,BatchNormalization,GlobalAveragePooling2D,Dropout,GlobalMaxPooling2D\n",
    "from tensorflow.keras import regularizers\n",
    "from tensorflow.keras.models import Model\n",
    "from tensorflow.keras.applications.mobilenet import MobileNet\n",
    "from tensorflow.keras.applications.mobilenet import preprocess_input\n",
    "from tensorflow.keras.applications import Xception,NASNetMobile,DenseNet201\n",
    "from tensorflow.keras.preprocessing import image\n",
    "from tensorflow.keras.applications.xception import preprocess_input, decode_predictions\n",
    "from tensorflow.keras.applications.vgg19 import preprocess_input, decode_predictions\n",
    "from tensorflow.keras.applications.mobilenet_v2 import preprocess_input, decode_predictions\n",
    "from tensorflow.keras.preprocessing import image\n",
    "from tensorflow.keras.preprocessing.image import ImageDataGenerator\n",
    "from tensorflow.keras.regularizers import l2\n",
    "from tensorflow.keras.layers import Layer, MultiHeadAttention\n",
    "from tensorflow.keras.layers import LayerNormalization\n",
    "from tensorflow.keras.models import Sequential\n",
    "import numpy as np\n",
    "import pandas as pd\n",
    "import os\n",
    "import cv2\n",
    "import matplotlib.pyplot as plt\n",
    "from glob import glob"
   ]
  },
  {
   "cell_type": "code",
   "execution_count": 3,
   "id": "1d7e4eb7",
   "metadata": {
    "execution": {
     "iopub.execute_input": "2024-04-01T08:50:09.821833Z",
     "iopub.status.busy": "2024-04-01T08:50:09.821232Z",
     "iopub.status.idle": "2024-04-01T08:50:10.935758Z",
     "shell.execute_reply": "2024-04-01T08:50:10.934967Z"
    },
    "papermill": {
     "duration": 1.123743,
     "end_time": "2024-04-01T08:50:10.938127",
     "exception": false,
     "start_time": "2024-04-01T08:50:09.814384",
     "status": "completed"
    },
    "tags": []
   },
   "outputs": [],
   "source": [
    "import tensorflow as tf\n",
    "import tensorflow_hub as hub\n",
    "from tensorflow.keras import layers, models, optimizers\n",
    "from tensorflow.keras.applications.vgg16 import preprocess_input\n",
    "from tensorflow.keras.preprocessing.image import ImageDataGenerator\n",
    "from tensorflow.keras.utils import plot_model"
   ]
  },
  {
   "cell_type": "code",
   "execution_count": 4,
   "id": "5923c5f6",
   "metadata": {
    "execution": {
     "iopub.execute_input": "2024-04-01T08:50:10.950663Z",
     "iopub.status.busy": "2024-04-01T08:50:10.950077Z",
     "iopub.status.idle": "2024-04-01T08:50:10.954588Z",
     "shell.execute_reply": "2024-04-01T08:50:10.953716Z"
    },
    "papermill": {
     "duration": 0.012959,
     "end_time": "2024-04-01T08:50:10.956562",
     "exception": false,
     "start_time": "2024-04-01T08:50:10.943603",
     "status": "completed"
    },
    "tags": []
   },
   "outputs": [],
   "source": [
    "train_path=\"/kaggle/input/the-wildfire-dataset/the_wildfire_dataset_2n_version/train\"\n",
    "test_path=\"/kaggle/input/the-wildfire-dataset/the_wildfire_dataset_2n_version/test\"\n",
    "val_path=\"/kaggle/input/the-wildfire-dataset/the_wildfire_dataset_2n_version/val\""
   ]
  },
  {
   "cell_type": "code",
   "execution_count": 5,
   "id": "50c9d775",
   "metadata": {
    "execution": {
     "iopub.execute_input": "2024-04-01T08:50:10.969159Z",
     "iopub.status.busy": "2024-04-01T08:50:10.968479Z",
     "iopub.status.idle": "2024-04-01T08:50:13.366755Z",
     "shell.execute_reply": "2024-04-01T08:50:13.365844Z"
    },
    "papermill": {
     "duration": 2.407308,
     "end_time": "2024-04-01T08:50:13.369344",
     "exception": false,
     "start_time": "2024-04-01T08:50:10.962036",
     "status": "completed"
    },
    "tags": []
   },
   "outputs": [
    {
     "name": "stdout",
     "output_type": "stream",
     "text": [
      "Found 1887 images belonging to 2 classes.\n",
      "Found 410 images belonging to 2 classes.\n",
      "Found 402 images belonging to 2 classes.\n"
     ]
    }
   ],
   "source": [
    "train_datagen = ImageDataGenerator( \n",
    "                                   rescale=1./255,\n",
    "                                   rotation_range=20,\n",
    "                                   width_shift_range=0.2,\n",
    "                                   height_shift_range=0.2,\n",
    "                                   shear_range=0.2,\n",
    "                                   zoom_range=0.2,\n",
    "                                   horizontal_flip=True,\n",
    "                                   vertical_flip=True,\n",
    "                                   #brightness_range=[0.5, 1.5],\n",
    "                                  ) \n",
    "test_datagen = ImageDataGenerator(rescale = 1./255)\n",
    "val_datagen = ImageDataGenerator(  rescale=1./255.0)\n",
    "training_set = train_datagen.flow_from_directory(train_path,\n",
    "                                                 target_size = (224,224),\n",
    "                                                 batch_size = 64,\n",
    "                                                 class_mode = 'binary')\n",
    "test_set = test_datagen.flow_from_directory(test_path,\n",
    "                                            target_size = (224,224),\n",
    "                                            batch_size = 64,\n",
    "                                            class_mode = 'binary',\n",
    "                                            shuffle=False)\n",
    "val_set = val_datagen.flow_from_directory(val_path,\n",
    "                                            target_size = (224,224),\n",
    "                                            batch_size = 64,\n",
    "                                            class_mode = 'binary')\n"
   ]
  },
  {
   "cell_type": "code",
   "execution_count": 6,
   "id": "a4da0430",
   "metadata": {
    "execution": {
     "iopub.execute_input": "2024-04-01T08:50:13.386378Z",
     "iopub.status.busy": "2024-04-01T08:50:13.386049Z",
     "iopub.status.idle": "2024-04-01T08:50:16.504417Z",
     "shell.execute_reply": "2024-04-01T08:50:16.503620Z"
    },
    "papermill": {
     "duration": 3.129542,
     "end_time": "2024-04-01T08:50:16.506857",
     "exception": false,
     "start_time": "2024-04-01T08:50:13.377315",
     "status": "completed"
    },
    "tags": []
   },
   "outputs": [
    {
     "name": "stdout",
     "output_type": "stream",
     "text": [
      "Downloading data from https://storage.googleapis.com/tensorflow/keras-applications/mobilenet/mobilenet_1_0_224_tf_no_top.h5\n",
      "\u001b[1m17225924/17225924\u001b[0m \u001b[32m━━━━━━━━━━━━━━━━━━━━\u001b[0m\u001b[37m\u001b[0m \u001b[1m2s\u001b[0m 0us/step\n"
     ]
    }
   ],
   "source": [
    "base_model = MobileNet(input_shape=(224,224,3),weights='imagenet', include_top=False)"
   ]
  },
  {
   "cell_type": "code",
   "execution_count": 7,
   "id": "834cb6bf",
   "metadata": {
    "execution": {
     "iopub.execute_input": "2024-04-01T08:50:16.523733Z",
     "iopub.status.busy": "2024-04-01T08:50:16.523409Z",
     "iopub.status.idle": "2024-04-01T08:50:16.529566Z",
     "shell.execute_reply": "2024-04-01T08:50:16.528714Z"
    },
    "papermill": {
     "duration": 0.016726,
     "end_time": "2024-04-01T08:50:16.531507",
     "exception": false,
     "start_time": "2024-04-01T08:50:16.514781",
     "status": "completed"
    },
    "tags": []
   },
   "outputs": [],
   "source": [
    "for layer in base_model.layers:\n",
    "  layer.trainable=False"
   ]
  },
  {
   "cell_type": "code",
   "execution_count": 8,
   "id": "4d838b95",
   "metadata": {
    "execution": {
     "iopub.execute_input": "2024-04-01T08:50:16.547789Z",
     "iopub.status.busy": "2024-04-01T08:50:16.547515Z",
     "iopub.status.idle": "2024-04-01T08:50:16.638187Z",
     "shell.execute_reply": "2024-04-01T08:50:16.637152Z"
    },
    "papermill": {
     "duration": 0.101581,
     "end_time": "2024-04-01T08:50:16.640645",
     "exception": false,
     "start_time": "2024-04-01T08:50:16.539064",
     "status": "completed"
    },
    "tags": []
   },
   "outputs": [],
   "source": [
    "x = base_model.output\n",
    "x = Flatten()(x)\n",
    "x = Dense(1024, activation=\"relu\")(x)\n",
    "x = Dropout(0.2)(x)\n",
    "x = BatchNormalization()(x)\n",
    "x = Dense(256, activation=\"relu\")(x)\n",
    "x = Dense(128, activation=\"relu\")(x)\n",
    "x = Dropout(0.2)(x)\n",
    "x = BatchNormalization()(x)\n",
    "x = Dense(64, activation=\"relu\")(x)\n",
    "x = Dropout(0.2)(x)\n",
    "x = BatchNormalization()(x)\n",
    "predictions = Dense(2, activation='softmax')(x)\n",
    "\n",
    "model = Model(inputs=base_model.input, outputs=predictions)"
   ]
  },
  {
   "cell_type": "code",
   "execution_count": 9,
   "id": "abe8680a",
   "metadata": {
    "execution": {
     "iopub.execute_input": "2024-04-01T08:50:16.657776Z",
     "iopub.status.busy": "2024-04-01T08:50:16.657445Z",
     "iopub.status.idle": "2024-04-01T08:50:16.661727Z",
     "shell.execute_reply": "2024-04-01T08:50:16.660902Z"
    },
    "papermill": {
     "duration": 0.015051,
     "end_time": "2024-04-01T08:50:16.663718",
     "exception": false,
     "start_time": "2024-04-01T08:50:16.648667",
     "status": "completed"
    },
    "tags": []
   },
   "outputs": [],
   "source": [
    "from keras.losses import SparseCategoricalCrossentropy\n",
    "\n",
    "# Instantiate the loss function\n",
    "loss_fn = SparseCategoricalCrossentropy()"
   ]
  },
  {
   "cell_type": "code",
   "execution_count": 10,
   "id": "0bc082ba",
   "metadata": {
    "execution": {
     "iopub.execute_input": "2024-04-01T08:50:16.682096Z",
     "iopub.status.busy": "2024-04-01T08:50:16.681758Z",
     "iopub.status.idle": "2024-04-01T08:50:16.694735Z",
     "shell.execute_reply": "2024-04-01T08:50:16.693979Z"
    },
    "papermill": {
     "duration": 0.024279,
     "end_time": "2024-04-01T08:50:16.696930",
     "exception": false,
     "start_time": "2024-04-01T08:50:16.672651",
     "status": "completed"
    },
    "tags": []
   },
   "outputs": [],
   "source": [
    "model.compile(optimizer='adam', loss=loss_fn,\n",
    "              metrics=['accuracy'])"
   ]
  },
  {
   "cell_type": "code",
   "execution_count": 11,
   "id": "34f78456",
   "metadata": {
    "execution": {
     "iopub.execute_input": "2024-04-01T08:50:16.713925Z",
     "iopub.status.busy": "2024-04-01T08:50:16.713579Z",
     "iopub.status.idle": "2024-04-01T15:36:00.519079Z",
     "shell.execute_reply": "2024-04-01T15:36:00.518147Z"
    },
    "papermill": {
     "duration": 24343.935731,
     "end_time": "2024-04-01T15:36:00.640619",
     "exception": false,
     "start_time": "2024-04-01T08:50:16.704888",
     "status": "completed"
    },
    "tags": []
   },
   "outputs": [
    {
     "name": "stdout",
     "output_type": "stream",
     "text": [
      "Epoch 1/50\n"
     ]
    },
    {
     "name": "stderr",
     "output_type": "stream",
     "text": [
      "/opt/conda/lib/python3.10/site-packages/keras/src/trainers/data_adapters/py_dataset_adapter.py:122: UserWarning: Your `PyDataset` class should call `super().__init__(**kwargs)` in its constructor. `**kwargs` can include `workers`, `use_multiprocessing`, `max_queue_size`. Do not pass these arguments to `fit()`, as they will be ignored.\n",
      "  self._warn_if_super_not_called()\n"
     ]
    },
    {
     "name": "stdout",
     "output_type": "stream",
     "text": [
      "\u001b[1m 1/30\u001b[0m \u001b[37m━━━━━━━━━━━━━━━━━━━━\u001b[0m \u001b[1m1:11:54\u001b[0m 149s/step - accuracy: 0.5938 - loss: 0.9417"
     ]
    },
    {
     "name": "stderr",
     "output_type": "stream",
     "text": [
      "WARNING: All log messages before absl::InitializeLog() is called are written to STDERR\n",
      "I0000 00:00:1711961584.687597      89 device_compiler.h:186] Compiled cluster using XLA!  This line is logged at most once for the lifetime of the process.\n",
      "W0000 00:00:1711961584.716818      89 graph_launch.cc:671] Fallback to op-by-op mode because memset node breaks graph update\n"
     ]
    },
    {
     "name": "stdout",
     "output_type": "stream",
     "text": [
      "\u001b[1m 2/30\u001b[0m \u001b[32m━\u001b[0m\u001b[37m━━━━━━━━━━━━━━━━━━━\u001b[0m \u001b[1m1:30\u001b[0m 3s/step - accuracy: 0.5898 - loss: 0.9822     "
     ]
    },
    {
     "name": "stderr",
     "output_type": "stream",
     "text": [
      "/opt/conda/lib/python3.10/site-packages/PIL/Image.py:3176: DecompressionBombWarning: Image size (104688771 pixels) exceeds limit of 89478485 pixels, could be decompression bomb DOS attack.\n",
      "  warnings.warn(\n"
     ]
    },
    {
     "name": "stdout",
     "output_type": "stream",
     "text": [
      "\u001b[1m14/30\u001b[0m \u001b[32m━━━━━━━━━\u001b[0m\u001b[37m━━━━━━━━━━━\u001b[0m \u001b[1m4:25\u001b[0m 17s/step - accuracy: 0.6357 - loss: 0.8381"
     ]
    },
    {
     "name": "stderr",
     "output_type": "stream",
     "text": [
      "/opt/conda/lib/python3.10/site-packages/PIL/Image.py:3176: DecompressionBombWarning: Image size (89747104 pixels) exceeds limit of 89478485 pixels, could be decompression bomb DOS attack.\n",
      "  warnings.warn(\n"
     ]
    },
    {
     "name": "stdout",
     "output_type": "stream",
     "text": [
      "\u001b[1m30/30\u001b[0m \u001b[32m━━━━━━━━━━━━━━━━━━━━\u001b[0m\u001b[37m\u001b[0m \u001b[1m0s\u001b[0m 12s/step - accuracy: 0.6610 - loss: 0.7677 "
     ]
    },
    {
     "name": "stderr",
     "output_type": "stream",
     "text": [
      "W0000 00:00:1711961984.490063      90 graph_launch.cc:671] Fallback to op-by-op mode because memset node breaks graph update\n"
     ]
    },
    {
     "name": "stdout",
     "output_type": "stream",
     "text": [
      "\u001b[1m30/30\u001b[0m \u001b[32m━━━━━━━━━━━━━━━━━━━━\u001b[0m\u001b[37m\u001b[0m \u001b[1m636s\u001b[0m 17s/step - accuracy: 0.6622 - loss: 0.7647 - val_accuracy: 0.8109 - val_loss: 0.6489\n",
      "Epoch 2/50\n",
      "\u001b[1m30/30\u001b[0m \u001b[32m━━━━━━━━━━━━━━━━━━━━\u001b[0m\u001b[37m\u001b[0m \u001b[1m460s\u001b[0m 12s/step - accuracy: 0.7730 - loss: 0.5257 - val_accuracy: 0.8284 - val_loss: 0.4460\n",
      "Epoch 3/50\n",
      "\u001b[1m30/30\u001b[0m \u001b[32m━━━━━━━━━━━━━━━━━━━━\u001b[0m\u001b[37m\u001b[0m \u001b[1m486s\u001b[0m 13s/step - accuracy: 0.7865 - loss: 0.4535 - val_accuracy: 0.8433 - val_loss: 0.4515\n",
      "Epoch 4/50\n",
      "\u001b[1m30/30\u001b[0m \u001b[32m━━━━━━━━━━━━━━━━━━━━\u001b[0m\u001b[37m\u001b[0m \u001b[1m463s\u001b[0m 12s/step - accuracy: 0.8235 - loss: 0.3968 - val_accuracy: 0.8557 - val_loss: 0.3672\n",
      "Epoch 5/50\n",
      "\u001b[1m30/30\u001b[0m \u001b[32m━━━━━━━━━━━━━━━━━━━━\u001b[0m\u001b[37m\u001b[0m \u001b[1m485s\u001b[0m 13s/step - accuracy: 0.8505 - loss: 0.3402 - val_accuracy: 0.8408 - val_loss: 0.4916\n",
      "Epoch 6/50\n",
      "\u001b[1m30/30\u001b[0m \u001b[32m━━━━━━━━━━━━━━━━━━━━\u001b[0m\u001b[37m\u001b[0m \u001b[1m471s\u001b[0m 13s/step - accuracy: 0.8533 - loss: 0.3401 - val_accuracy: 0.8259 - val_loss: 0.4685\n",
      "Epoch 7/50\n",
      "\u001b[1m30/30\u001b[0m \u001b[32m━━━━━━━━━━━━━━━━━━━━\u001b[0m\u001b[37m\u001b[0m \u001b[1m467s\u001b[0m 12s/step - accuracy: 0.8643 - loss: 0.3098 - val_accuracy: 0.8308 - val_loss: 0.4590\n",
      "Epoch 8/50\n",
      "\u001b[1m30/30\u001b[0m \u001b[32m━━━━━━━━━━━━━━━━━━━━\u001b[0m\u001b[37m\u001b[0m \u001b[1m493s\u001b[0m 13s/step - accuracy: 0.8779 - loss: 0.3136 - val_accuracy: 0.8607 - val_loss: 0.3774\n",
      "Epoch 9/50\n",
      "\u001b[1m30/30\u001b[0m \u001b[32m━━━━━━━━━━━━━━━━━━━━\u001b[0m\u001b[37m\u001b[0m \u001b[1m478s\u001b[0m 13s/step - accuracy: 0.8936 - loss: 0.2449 - val_accuracy: 0.8433 - val_loss: 0.3754\n",
      "Epoch 10/50\n",
      "\u001b[1m30/30\u001b[0m \u001b[32m━━━━━━━━━━━━━━━━━━━━\u001b[0m\u001b[37m\u001b[0m \u001b[1m481s\u001b[0m 13s/step - accuracy: 0.8695 - loss: 0.2718 - val_accuracy: 0.8433 - val_loss: 0.3754\n",
      "Epoch 11/50\n",
      "\u001b[1m30/30\u001b[0m \u001b[32m━━━━━━━━━━━━━━━━━━━━\u001b[0m\u001b[37m\u001b[0m \u001b[1m511s\u001b[0m 14s/step - accuracy: 0.8699 - loss: 0.2950 - val_accuracy: 0.8582 - val_loss: 0.3669\n",
      "Epoch 12/50\n",
      "\u001b[1m30/30\u001b[0m \u001b[32m━━━━━━━━━━━━━━━━━━━━\u001b[0m\u001b[37m\u001b[0m \u001b[1m486s\u001b[0m 13s/step - accuracy: 0.8864 - loss: 0.2659 - val_accuracy: 0.8507 - val_loss: 0.3655\n",
      "Epoch 13/50\n",
      "\u001b[1m30/30\u001b[0m \u001b[32m━━━━━━━━━━━━━━━━━━━━\u001b[0m\u001b[37m\u001b[0m \u001b[1m458s\u001b[0m 12s/step - accuracy: 0.8809 - loss: 0.2685 - val_accuracy: 0.8756 - val_loss: 0.3119\n",
      "Epoch 14/50\n",
      "\u001b[1m30/30\u001b[0m \u001b[32m━━━━━━━━━━━━━━━━━━━━\u001b[0m\u001b[37m\u001b[0m \u001b[1m459s\u001b[0m 12s/step - accuracy: 0.8988 - loss: 0.2431 - val_accuracy: 0.8557 - val_loss: 0.3672\n",
      "Epoch 15/50\n",
      "\u001b[1m30/30\u001b[0m \u001b[32m━━━━━━━━━━━━━━━━━━━━\u001b[0m\u001b[37m\u001b[0m \u001b[1m482s\u001b[0m 13s/step - accuracy: 0.8854 - loss: 0.2552 - val_accuracy: 0.8308 - val_loss: 0.5059\n",
      "Epoch 16/50\n",
      "\u001b[1m30/30\u001b[0m \u001b[32m━━━━━━━━━━━━━━━━━━━━\u001b[0m\u001b[37m\u001b[0m \u001b[1m504s\u001b[0m 14s/step - accuracy: 0.9030 - loss: 0.2287 - val_accuracy: 0.8458 - val_loss: 0.4530\n",
      "Epoch 17/50\n",
      "\u001b[1m30/30\u001b[0m \u001b[32m━━━━━━━━━━━━━━━━━━━━\u001b[0m\u001b[37m\u001b[0m \u001b[1m487s\u001b[0m 13s/step - accuracy: 0.8973 - loss: 0.2236 - val_accuracy: 0.8532 - val_loss: 0.4655\n",
      "Epoch 18/50\n",
      "\u001b[1m30/30\u001b[0m \u001b[32m━━━━━━━━━━━━━━━━━━━━\u001b[0m\u001b[37m\u001b[0m \u001b[1m476s\u001b[0m 13s/step - accuracy: 0.9105 - loss: 0.2233 - val_accuracy: 0.8706 - val_loss: 0.3476\n",
      "Epoch 19/50\n",
      "\u001b[1m30/30\u001b[0m \u001b[32m━━━━━━━━━━━━━━━━━━━━\u001b[0m\u001b[37m\u001b[0m \u001b[1m495s\u001b[0m 13s/step - accuracy: 0.9231 - loss: 0.1912 - val_accuracy: 0.8706 - val_loss: 0.3142\n",
      "Epoch 20/50\n",
      "\u001b[1m30/30\u001b[0m \u001b[32m━━━━━━━━━━━━━━━━━━━━\u001b[0m\u001b[37m\u001b[0m \u001b[1m478s\u001b[0m 13s/step - accuracy: 0.9156 - loss: 0.2050 - val_accuracy: 0.8632 - val_loss: 0.4455\n",
      "Epoch 21/50\n",
      "\u001b[1m30/30\u001b[0m \u001b[32m━━━━━━━━━━━━━━━━━━━━\u001b[0m\u001b[37m\u001b[0m \u001b[1m467s\u001b[0m 13s/step - accuracy: 0.9073 - loss: 0.2219 - val_accuracy: 0.8706 - val_loss: 0.3865\n",
      "Epoch 22/50\n",
      "\u001b[1m30/30\u001b[0m \u001b[32m━━━━━━━━━━━━━━━━━━━━\u001b[0m\u001b[37m\u001b[0m \u001b[1m476s\u001b[0m 13s/step - accuracy: 0.9055 - loss: 0.2269 - val_accuracy: 0.8781 - val_loss: 0.3004\n",
      "Epoch 23/50\n",
      "\u001b[1m30/30\u001b[0m \u001b[32m━━━━━━━━━━━━━━━━━━━━\u001b[0m\u001b[37m\u001b[0m \u001b[1m496s\u001b[0m 13s/step - accuracy: 0.9079 - loss: 0.2250 - val_accuracy: 0.8831 - val_loss: 0.3336\n",
      "Epoch 24/50\n",
      "\u001b[1m30/30\u001b[0m \u001b[32m━━━━━━━━━━━━━━━━━━━━\u001b[0m\u001b[37m\u001b[0m \u001b[1m482s\u001b[0m 13s/step - accuracy: 0.9065 - loss: 0.2241 - val_accuracy: 0.8806 - val_loss: 0.3572\n",
      "Epoch 25/50\n",
      "\u001b[1m30/30\u001b[0m \u001b[32m━━━━━━━━━━━━━━━━━━━━\u001b[0m\u001b[37m\u001b[0m \u001b[1m502s\u001b[0m 13s/step - accuracy: 0.9215 - loss: 0.2105 - val_accuracy: 0.8458 - val_loss: 0.4244\n",
      "Epoch 26/50\n",
      "\u001b[1m30/30\u001b[0m \u001b[32m━━━━━━━━━━━━━━━━━━━━\u001b[0m\u001b[37m\u001b[0m \u001b[1m530s\u001b[0m 12s/step - accuracy: 0.9278 - loss: 0.1999 - val_accuracy: 0.8856 - val_loss: 0.3013\n",
      "Epoch 27/50\n",
      "\u001b[1m30/30\u001b[0m \u001b[32m━━━━━━━━━━━━━━━━━━━━\u001b[0m\u001b[37m\u001b[0m \u001b[1m464s\u001b[0m 12s/step - accuracy: 0.9145 - loss: 0.1868 - val_accuracy: 0.8333 - val_loss: 0.4506\n",
      "Epoch 28/50\n",
      "\u001b[1m30/30\u001b[0m \u001b[32m━━━━━━━━━━━━━━━━━━━━\u001b[0m\u001b[37m\u001b[0m \u001b[1m493s\u001b[0m 13s/step - accuracy: 0.9304 - loss: 0.1832 - val_accuracy: 0.8806 - val_loss: 0.3830\n",
      "Epoch 29/50\n",
      "\u001b[1m30/30\u001b[0m \u001b[32m━━━━━━━━━━━━━━━━━━━━\u001b[0m\u001b[37m\u001b[0m \u001b[1m481s\u001b[0m 13s/step - accuracy: 0.9196 - loss: 0.1850 - val_accuracy: 0.8905 - val_loss: 0.3239\n",
      "Epoch 30/50\n",
      "\u001b[1m30/30\u001b[0m \u001b[32m━━━━━━━━━━━━━━━━━━━━\u001b[0m\u001b[37m\u001b[0m \u001b[1m455s\u001b[0m 12s/step - accuracy: 0.9217 - loss: 0.2068 - val_accuracy: 0.8682 - val_loss: 0.3546\n",
      "Epoch 31/50\n",
      "\u001b[1m30/30\u001b[0m \u001b[32m━━━━━━━━━━━━━━━━━━━━\u001b[0m\u001b[37m\u001b[0m \u001b[1m489s\u001b[0m 13s/step - accuracy: 0.9211 - loss: 0.1768 - val_accuracy: 0.8582 - val_loss: 0.3641\n",
      "Epoch 32/50\n",
      "\u001b[1m30/30\u001b[0m \u001b[32m━━━━━━━━━━━━━━━━━━━━\u001b[0m\u001b[37m\u001b[0m \u001b[1m454s\u001b[0m 12s/step - accuracy: 0.9190 - loss: 0.1783 - val_accuracy: 0.8831 - val_loss: 0.3303\n",
      "Epoch 33/50\n",
      "\u001b[1m30/30\u001b[0m \u001b[32m━━━━━━━━━━━━━━━━━━━━\u001b[0m\u001b[37m\u001b[0m \u001b[1m508s\u001b[0m 14s/step - accuracy: 0.9366 - loss: 0.1638 - val_accuracy: 0.8806 - val_loss: 0.3401\n",
      "Epoch 34/50\n",
      "\u001b[1m30/30\u001b[0m \u001b[32m━━━━━━━━━━━━━━━━━━━━\u001b[0m\u001b[37m\u001b[0m \u001b[1m473s\u001b[0m 13s/step - accuracy: 0.9258 - loss: 0.1715 - val_accuracy: 0.8856 - val_loss: 0.3156\n",
      "Epoch 35/50\n",
      "\u001b[1m30/30\u001b[0m \u001b[32m━━━━━━━━━━━━━━━━━━━━\u001b[0m\u001b[37m\u001b[0m \u001b[1m477s\u001b[0m 13s/step - accuracy: 0.9273 - loss: 0.1717 - val_accuracy: 0.8706 - val_loss: 0.3533\n",
      "Epoch 36/50\n",
      "\u001b[1m30/30\u001b[0m \u001b[32m━━━━━━━━━━━━━━━━━━━━\u001b[0m\u001b[37m\u001b[0m \u001b[1m485s\u001b[0m 13s/step - accuracy: 0.9452 - loss: 0.1425 - val_accuracy: 0.8607 - val_loss: 0.3419\n",
      "Epoch 37/50\n",
      "\u001b[1m30/30\u001b[0m \u001b[32m━━━━━━━━━━━━━━━━━━━━\u001b[0m\u001b[37m\u001b[0m \u001b[1m486s\u001b[0m 13s/step - accuracy: 0.9252 - loss: 0.1931 - val_accuracy: 0.8856 - val_loss: 0.3210\n",
      "Epoch 38/50\n",
      "\u001b[1m30/30\u001b[0m \u001b[32m━━━━━━━━━━━━━━━━━━━━\u001b[0m\u001b[37m\u001b[0m \u001b[1m505s\u001b[0m 14s/step - accuracy: 0.9398 - loss: 0.1645 - val_accuracy: 0.8632 - val_loss: 0.3827\n",
      "Epoch 39/50\n",
      "\u001b[1m30/30\u001b[0m \u001b[32m━━━━━━━━━━━━━━━━━━━━\u001b[0m\u001b[37m\u001b[0m \u001b[1m490s\u001b[0m 13s/step - accuracy: 0.9284 - loss: 0.1694 - val_accuracy: 0.8781 - val_loss: 0.3935\n",
      "Epoch 40/50\n",
      "\u001b[1m30/30\u001b[0m \u001b[32m━━━━━━━━━━━━━━━━━━━━\u001b[0m\u001b[37m\u001b[0m \u001b[1m457s\u001b[0m 12s/step - accuracy: 0.9433 - loss: 0.1571 - val_accuracy: 0.8532 - val_loss: 0.4583\n",
      "Epoch 41/50\n",
      "\u001b[1m30/30\u001b[0m \u001b[32m━━━━━━━━━━━━━━━━━━━━\u001b[0m\u001b[37m\u001b[0m \u001b[1m510s\u001b[0m 14s/step - accuracy: 0.9410 - loss: 0.1453 - val_accuracy: 0.8706 - val_loss: 0.3679\n",
      "Epoch 42/50\n",
      "\u001b[1m30/30\u001b[0m \u001b[32m━━━━━━━━━━━━━━━━━━━━\u001b[0m\u001b[37m\u001b[0m \u001b[1m488s\u001b[0m 13s/step - accuracy: 0.9342 - loss: 0.1619 - val_accuracy: 0.8557 - val_loss: 0.3892\n",
      "Epoch 43/50\n",
      "\u001b[1m30/30\u001b[0m \u001b[32m━━━━━━━━━━━━━━━━━━━━\u001b[0m\u001b[37m\u001b[0m \u001b[1m487s\u001b[0m 13s/step - accuracy: 0.9374 - loss: 0.1690 - val_accuracy: 0.8682 - val_loss: 0.4020\n",
      "Epoch 44/50\n",
      "\u001b[1m30/30\u001b[0m \u001b[32m━━━━━━━━━━━━━━━━━━━━\u001b[0m\u001b[37m\u001b[0m \u001b[1m496s\u001b[0m 13s/step - accuracy: 0.9386 - loss: 0.1570 - val_accuracy: 0.8781 - val_loss: 0.4078\n",
      "Epoch 45/50\n",
      "\u001b[1m30/30\u001b[0m \u001b[32m━━━━━━━━━━━━━━━━━━━━\u001b[0m\u001b[37m\u001b[0m \u001b[1m495s\u001b[0m 13s/step - accuracy: 0.9277 - loss: 0.1757 - val_accuracy: 0.8657 - val_loss: 0.3771\n",
      "Epoch 46/50\n",
      "\u001b[1m30/30\u001b[0m \u001b[32m━━━━━━━━━━━━━━━━━━━━\u001b[0m\u001b[37m\u001b[0m \u001b[1m459s\u001b[0m 12s/step - accuracy: 0.9384 - loss: 0.1576 - val_accuracy: 0.8507 - val_loss: 0.3908\n",
      "Epoch 47/50\n",
      "\u001b[1m30/30\u001b[0m \u001b[32m━━━━━━━━━━━━━━━━━━━━\u001b[0m\u001b[37m\u001b[0m \u001b[1m495s\u001b[0m 13s/step - accuracy: 0.9257 - loss: 0.1776 - val_accuracy: 0.8657 - val_loss: 0.3475\n",
      "Epoch 48/50\n",
      "\u001b[1m30/30\u001b[0m \u001b[32m━━━━━━━━━━━━━━━━━━━━\u001b[0m\u001b[37m\u001b[0m \u001b[1m463s\u001b[0m 12s/step - accuracy: 0.9435 - loss: 0.1516 - val_accuracy: 0.8607 - val_loss: 0.4169\n",
      "Epoch 49/50\n",
      "\u001b[1m30/30\u001b[0m \u001b[32m━━━━━━━━━━━━━━━━━━━━\u001b[0m\u001b[37m\u001b[0m \u001b[1m508s\u001b[0m 13s/step - accuracy: 0.9420 - loss: 0.1437 - val_accuracy: 0.8607 - val_loss: 0.4093\n",
      "Epoch 50/50\n",
      "\u001b[1m30/30\u001b[0m \u001b[32m━━━━━━━━━━━━━━━━━━━━\u001b[0m\u001b[37m\u001b[0m \u001b[1m497s\u001b[0m 13s/step - accuracy: 0.9343 - loss: 0.1666 - val_accuracy: 0.8383 - val_loss: 0.4719\n"
     ]
    }
   ],
   "source": [
    "history = model.fit(\n",
    "    training_set,\n",
    "    epochs=50,\n",
    "    validation_data=val_set,\n",
    "    #callbacks=[callbacks]\n",
    ")"
   ]
  },
  {
   "cell_type": "code",
   "execution_count": 12,
   "id": "5d0fbe0a",
   "metadata": {
    "execution": {
     "iopub.execute_input": "2024-04-01T15:36:00.888841Z",
     "iopub.status.busy": "2024-04-01T15:36:00.888117Z",
     "iopub.status.idle": "2024-04-01T15:38:18.794649Z",
     "shell.execute_reply": "2024-04-01T15:38:18.793630Z"
    },
    "papermill": {
     "duration": 138.032976,
     "end_time": "2024-04-01T15:38:18.796742",
     "exception": false,
     "start_time": "2024-04-01T15:36:00.763766",
     "status": "completed"
    },
    "tags": []
   },
   "outputs": [
    {
     "name": "stdout",
     "output_type": "stream",
     "text": [
      "\u001b[1m2/7\u001b[0m \u001b[32m━━━━━\u001b[0m\u001b[37m━━━━━━━━━━━━━━━\u001b[0m \u001b[1m1:05\u001b[0m 13s/step - accuracy: 0.6758 - loss: 0.8185"
     ]
    },
    {
     "name": "stderr",
     "output_type": "stream",
     "text": [
      "/opt/conda/lib/python3.10/site-packages/PIL/Image.py:3176: DecompressionBombWarning: Image size (96631920 pixels) exceeds limit of 89478485 pixels, could be decompression bomb DOS attack.\n",
      "  warnings.warn(\n",
      "/opt/conda/lib/python3.10/site-packages/PIL/Image.py:3176: DecompressionBombWarning: Image size (94487082 pixels) exceeds limit of 89478485 pixels, could be decompression bomb DOS attack.\n",
      "  warnings.warn(\n"
     ]
    },
    {
     "name": "stdout",
     "output_type": "stream",
     "text": [
      "\u001b[1m3/7\u001b[0m \u001b[32m━━━━━━━━\u001b[0m\u001b[37m━━━━━━━━━━━━\u001b[0m \u001b[1m1:03\u001b[0m 16s/step - accuracy: 0.6988 - loss: 0.7968"
     ]
    },
    {
     "name": "stderr",
     "output_type": "stream",
     "text": [
      "/opt/conda/lib/python3.10/site-packages/PIL/Image.py:3176: DecompressionBombWarning: Image size (101859328 pixels) exceeds limit of 89478485 pixels, could be decompression bomb DOS attack.\n",
      "  warnings.warn(\n"
     ]
    },
    {
     "name": "stdout",
     "output_type": "stream",
     "text": [
      "\u001b[1m7/7\u001b[0m \u001b[32m━━━━━━━━━━━━━━━━━━━━\u001b[0m\u001b[37m\u001b[0m \u001b[1m121s\u001b[0m 18s/step - accuracy: 0.7968 - loss: 0.5582\n"
     ]
    },
    {
     "data": {
      "text/plain": [
       "[0.33120760321617126, 0.8780487775802612]"
      ]
     },
     "execution_count": 12,
     "metadata": {},
     "output_type": "execute_result"
    }
   ],
   "source": [
    "model.evaluate(test_set)"
   ]
  },
  {
   "cell_type": "code",
   "execution_count": 13,
   "id": "ba01c0a9",
   "metadata": {
    "execution": {
     "iopub.execute_input": "2024-04-01T15:38:19.042532Z",
     "iopub.status.busy": "2024-04-01T15:38:19.041811Z",
     "iopub.status.idle": "2024-04-01T15:38:19.630089Z",
     "shell.execute_reply": "2024-04-01T15:38:19.629176Z"
    },
    "papermill": {
     "duration": 0.712983,
     "end_time": "2024-04-01T15:38:19.632709",
     "exception": false,
     "start_time": "2024-04-01T15:38:18.919726",
     "status": "completed"
    },
    "tags": []
   },
   "outputs": [
    {
     "data": {
      "image/png": "[encoded data removed]",
      "text/plain": [
       "<Figure size 1200x500 with 2 Axes>"
      ]
     },
     "metadata": {},
     "output_type": "display_data"
    }
   ],
   "source": [
    "import matplotlib.pyplot as plt\n",
    "\n",
    "# Plot accuracy and loss side by side\n",
    "plt.figure(figsize=(12, 5))  # Adjust the figure size as needed\n",
    "\n",
    "# Accuracy subplot\n",
    "plt.subplot(1, 2, 1)  # 1 row, 2 columns, first subplot\n",
    "plt.plot(history.history['accuracy'])\n",
    "plt.plot(history.history['val_accuracy'])\n",
    "plt.title('Model Accuracy')\n",
    "plt.ylabel('Accuracy')\n",
    "plt.xlabel('Epoch')\n",
    "plt.legend(['Train', 'Validation'], loc='upper left')\n",
    "\n",
    "# Loss subplot\n",
    "plt.subplot(1, 2, 2)  # 1 row, 2 columns, second subplot\n",
    "plt.plot(history.history['loss'])\n",
    "plt.plot(history.history['val_loss'])\n",
    "plt.title('Model Loss')\n",
    "plt.ylabel('Loss')\n",
    "plt.xlabel('Epoch')\n",
    "plt.legend(['Train', 'Validation'], loc='upper left')\n",
    "\n",
    "plt.tight_layout()  # Ensure the subplots do not overlap\n",
    "plt.show()"
   ]
  },
  {
   "cell_type": "code",
   "execution_count": 14,
   "id": "49f6d4a9",
   "metadata": {
    "execution": {
     "iopub.execute_input": "2024-04-01T15:38:19.882923Z",
     "iopub.status.busy": "2024-04-01T15:38:19.882529Z",
     "iopub.status.idle": "2024-04-01T15:40:05.020115Z",
     "shell.execute_reply": "2024-04-01T15:40:05.019007Z"
    },
    "papermill": {
     "duration": 105.264888,
     "end_time": "2024-04-01T15:40:05.022268",
     "exception": false,
     "start_time": "2024-04-01T15:38:19.757380",
     "status": "completed"
    },
    "tags": []
   },
   "outputs": [
    {
     "name": "stdout",
     "output_type": "stream",
     "text": [
      "\u001b[1m1/7\u001b[0m \u001b[32m━━\u001b[0m\u001b[37m━━━━━━━━━━━━━━━━━━\u001b[0m \u001b[1m1:15\u001b[0m 13s/step"
     ]
    },
    {
     "name": "stderr",
     "output_type": "stream",
     "text": [
      "W0000 00:00:1711985923.644476      91 graph_launch.cc:671] Fallback to op-by-op mode because memset node breaks graph update\n"
     ]
    },
    {
     "name": "stdout",
     "output_type": "stream",
     "text": [
      "\u001b[1m2/7\u001b[0m \u001b[32m━━━━━\u001b[0m\u001b[37m━━━━━━━━━━━━━━━\u001b[0m \u001b[1m27s\u001b[0m 6s/step  "
     ]
    },
    {
     "name": "stderr",
     "output_type": "stream",
     "text": [
      "/opt/conda/lib/python3.10/site-packages/PIL/Image.py:3176: DecompressionBombWarning: Image size (96631920 pixels) exceeds limit of 89478485 pixels, could be decompression bomb DOS attack.\n",
      "  warnings.warn(\n",
      "/opt/conda/lib/python3.10/site-packages/PIL/Image.py:3176: DecompressionBombWarning: Image size (94487082 pixels) exceeds limit of 89478485 pixels, could be decompression bomb DOS attack.\n",
      "  warnings.warn(\n"
     ]
    },
    {
     "name": "stdout",
     "output_type": "stream",
     "text": [
      "\u001b[1m3/7\u001b[0m \u001b[32m━━━━━━━━\u001b[0m\u001b[37m━━━━━━━━━━━━\u001b[0m \u001b[1m38s\u001b[0m 10s/step"
     ]
    },
    {
     "name": "stderr",
     "output_type": "stream",
     "text": [
      "/opt/conda/lib/python3.10/site-packages/PIL/Image.py:3176: DecompressionBombWarning: Image size (101859328 pixels) exceeds limit of 89478485 pixels, could be decompression bomb DOS attack.\n",
      "  warnings.warn(\n"
     ]
    },
    {
     "name": "stdout",
     "output_type": "stream",
     "text": [
      "\u001b[1m7/7\u001b[0m \u001b[32m━━━━━━━━━━━━━━━━━━━━\u001b[0m\u001b[37m\u001b[0m \u001b[1m94s\u001b[0m 14s/step\n",
      "              precision    recall  f1-score   support\n",
      "\n",
      "           0       0.98      0.70      0.82       159\n",
      "           1       0.84      0.99      0.91       251\n",
      "\n",
      "    accuracy                           0.88       410\n",
      "   macro avg       0.91      0.85      0.86       410\n",
      "weighted avg       0.89      0.88      0.87       410\n",
      "\n"
     ]
    }
   ],
   "source": [
    "from sklearn.metrics import accuracy_score,classification_report,confusion_matrix\n",
    "import numpy as np\n",
    "\n",
    "num_test_sample=len(test_set)\n",
    "num_classes=len(test_set.class_indices)\n",
    "\n",
    "predicted_probabilities=model.predict(test_set,steps=num_test_sample)\n",
    "predicted_labels=np.argmax(predicted_probabilities,axis=1)\n",
    "\n",
    "true_labels=test_set.classes\n",
    "\n",
    "report=classification_report(true_labels,predicted_labels)\n",
    "print(report)"
   ]
  },
  {
   "cell_type": "code",
   "execution_count": 15,
   "id": "61e4d8ef",
   "metadata": {
    "execution": {
     "iopub.execute_input": "2024-04-01T15:40:05.277469Z",
     "iopub.status.busy": "2024-04-01T15:40:05.276482Z",
     "iopub.status.idle": "2024-04-01T15:41:47.586447Z",
     "shell.execute_reply": "2024-04-01T15:41:47.585596Z"
    },
    "papermill": {
     "duration": 102.438585,
     "end_time": "2024-04-01T15:41:47.588501",
     "exception": false,
     "start_time": "2024-04-01T15:40:05.149916",
     "status": "completed"
    },
    "tags": []
   },
   "outputs": [
    {
     "name": "stdout",
     "output_type": "stream",
     "text": [
      "\u001b[1m2/7\u001b[0m \u001b[32m━━━━━\u001b[0m\u001b[37m━━━━━━━━━━━━━━━\u001b[0m \u001b[1m37s\u001b[0m 7s/step"
     ]
    },
    {
     "name": "stderr",
     "output_type": "stream",
     "text": [
      "/opt/conda/lib/python3.10/site-packages/PIL/Image.py:3176: DecompressionBombWarning: Image size (96631920 pixels) exceeds limit of 89478485 pixels, could be decompression bomb DOS attack.\n",
      "  warnings.warn(\n",
      "/opt/conda/lib/python3.10/site-packages/PIL/Image.py:3176: DecompressionBombWarning: Image size (94487082 pixels) exceeds limit of 89478485 pixels, could be decompression bomb DOS attack.\n",
      "  warnings.warn(\n"
     ]
    },
    {
     "name": "stdout",
     "output_type": "stream",
     "text": [
      "\u001b[1m3/7\u001b[0m \u001b[32m━━━━━━━━\u001b[0m\u001b[37m━━━━━━━━━━━━\u001b[0m \u001b[1m43s\u001b[0m 11s/step"
     ]
    },
    {
     "name": "stderr",
     "output_type": "stream",
     "text": [
      "/opt/conda/lib/python3.10/site-packages/PIL/Image.py:3176: DecompressionBombWarning: Image size (101859328 pixels) exceeds limit of 89478485 pixels, could be decompression bomb DOS attack.\n",
      "  warnings.warn(\n"
     ]
    },
    {
     "name": "stdout",
     "output_type": "stream",
     "text": [
      "\u001b[1m7/7\u001b[0m \u001b[32m━━━━━━━━━━━━━━━━━━━━\u001b[0m\u001b[37m\u001b[0m \u001b[1m92s\u001b[0m 14s/step\n"
     ]
    },
    {
     "data": {
      "image/png": "[encoded data removed]",
      "text/plain": [
       "<Figure size 800x600 with 1 Axes>"
      ]
     },
     "metadata": {},
     "output_type": "display_data"
    }
   ],
   "source": [
    "import numpy as np\n",
    "from sklearn.metrics import roc_curve, auc\n",
    "import matplotlib.pyplot as plt\n",
    "\n",
    "# Step 1: Make predictions on the test set\n",
    "y_pred = model.predict(test_set)\n",
    "\n",
    "# Assuming you have true labels for the test set\n",
    "y_true = test_set.classes\n",
    "\n",
    "# Step 2: Calculate ROC curve and AUC\n",
    "fpr, tpr, thresholds = roc_curve(y_true, y_pred[:, 1])\n",
    "roc_auc = auc(fpr, tpr)\n",
    "\n",
    "# Plot ROC curve\n",
    "plt.figure(figsize=(8, 6))\n",
    "plt.plot(fpr, tpr, color='darkorange', lw=2, label=f'ROC curve (AUC = {roc_auc:.4f})')\n",
    "plt.plot([0, 1], [0, 1], color='navy', lw=2, linestyle='--')\n",
    "plt.xlim([0.0, 1.0])\n",
    "plt.ylim([0.0, 1.05])\n",
    "plt.xlabel('False Positive Rate')\n",
    "plt.ylabel('True Positive Rate')\n",
    "plt.title('Receiver Operating Characteristic (ROC)')\n",
    "plt.legend(loc='lower right')\n",
    "plt.show()"
   ]
  },
  {
   "cell_type": "code",
   "execution_count": 16,
   "id": "43977ade",
   "metadata": {
    "execution": {
     "iopub.execute_input": "2024-04-01T15:41:47.842962Z",
     "iopub.status.busy": "2024-04-01T15:41:47.842032Z",
     "iopub.status.idle": "2024-04-01T15:41:48.317265Z",
     "shell.execute_reply": "2024-04-01T15:41:48.316204Z"
    },
    "papermill": {
     "duration": 0.604769,
     "end_time": "2024-04-01T15:41:48.319321",
     "exception": false,
     "start_time": "2024-04-01T15:41:47.714552",
     "status": "completed"
    },
    "tags": []
   },
   "outputs": [
    {
     "data": {
      "image/png": "[encoded data removed]",
      "text/plain": [
       "<Figure size 800x600 with 1 Axes>"
      ]
     },
     "metadata": {},
     "output_type": "display_data"
    }
   ],
   "source": [
    "import seaborn as sns\n",
    "import matplotlib.pyplot as plt\n",
    "from sklearn.metrics import confusion_matrix\n",
    "\n",
    "# Assuming you have the true labels (y_true) and predicted labels (predicted_labels)\n",
    "# Compute the confusion matrix\n",
    "cm = confusion_matrix(y_true, predicted_labels)\n",
    "\n",
    "# Create a heatmap for visualization\n",
    "plt.figure(figsize=(8, 6))\n",
    "sns.heatmap(cm, annot=True, fmt='d', cmap='Blues', cbar=False)\n",
    "plt.xlabel('Predicted Labels')\n",
    "plt.ylabel('True Labels')\n",
    "plt.title('Confusion Matrix')\n",
    "plt.xticks(ticks=[0, 1], labels=['Negative', 'Positive'])\n",
    "plt.yticks(ticks=[0, 1], labels=['Negative', 'Positive'])\n",
    "plt.show()"
   ]
  },
  {
   "cell_type": "code",
   "execution_count": 17,
   "id": "eca51900",
   "metadata": {
    "execution": {
     "iopub.execute_input": "2024-04-01T15:41:48.587559Z",
     "iopub.status.busy": "2024-04-01T15:41:48.586937Z",
     "iopub.status.idle": "2024-04-01T15:41:48.594828Z",
     "shell.execute_reply": "2024-04-01T15:41:48.593948Z"
    },
    "papermill": {
     "duration": 0.137318,
     "end_time": "2024-04-01T15:41:48.597301",
     "exception": false,
     "start_time": "2024-04-01T15:41:48.459983",
     "status": "completed"
    },
    "tags": []
   },
   "outputs": [
    {
     "name": "stdout",
     "output_type": "stream",
     "text": [
      "\n",
      "Sensitivity: 0.9920318725099602\n",
      "Specificity: 0.6981132075471698\n",
      "\n",
      "Precision: 0.8383838383838383\n",
      "Recall: 0.9920318725099602\n",
      "F1 Score: 0.9087591240875912\n",
      "G-measure: 0.9087591240875912\n"
     ]
    }
   ],
   "source": [
    "# Sensitivity and Specificity\n",
    "tn, fp, fn, tp = cm.ravel()\n",
    "sensitivity = tp / (tp + fn)\n",
    "specificity = tn / (tn + fp)\n",
    "\n",
    "print(f\"\\nSensitivity: {sensitivity}\")\n",
    "print(f\"Specificity: {specificity}\")\n",
    "\n",
    "# Precision, Recall, G-measure, F1 Score\n",
    "precision = tp / (tp + fp)\n",
    "recall = sensitivity  # same as sensitivity\n",
    "f1_score = 2 * (precision * recall) / (precision + recall)\n",
    "g_measure = 2 * ((precision * recall) / (precision + recall))\n",
    "\n",
    "print(f\"\\nPrecision: {precision}\")\n",
    "print(f\"Recall: {recall}\")\n",
    "print(f\"F1 Score: {f1_score}\")\n",
    "print(f\"G-measure: {g_measure}\")\n"
   ]
  }
 ],
 "metadata": {
  "kaggle": {
   "accelerator": "gpu",
   "dataSources": [
    {
     "datasetId": 3655844,
     "sourceId": 7863205,
     "sourceType": "datasetVersion"
    }
   ],
   "dockerImageVersionId": 30674,
   "isGpuEnabled": true,
   "isInternetEnabled": true,
   "language": "python",
   "sourceType": "notebook"
  },
  "kernelspec": {
   "display_name": "Python 3",
   "language": "python",
   "name": "python3"
  },
  "language_info": {
   "codemirror_mode": {
    "name": "ipython",
    "version": 3
   },
   "file_extension": ".py",
   "mimetype": "text/x-python",
   "name": "python",
   "nbconvert_exporter": "python",
   "pygments_lexer": "ipython3",
   "version": "3.10.13"
  },
  "papermill": {
   "default_parameters": {},
   "duration": 24717.003339,
   "end_time": "2024-04-01T15:41:51.668781",
   "environment_variables": {},
   "exception": null,
   "input_path": "__notebook__.ipynb",
   "output_path": "__notebook__.ipynb",
   "parameters": {},
   "start_time": "2024-04-01T08:49:54.665442",
   "version": "2.5.0"
  }
 },
 "nbformat": 4,
 "nbformat_minor": 5
}
